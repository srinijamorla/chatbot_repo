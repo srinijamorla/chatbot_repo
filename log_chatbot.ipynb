{
  "nbformat": 4,
  "nbformat_minor": 0,
  "metadata": {
    "colab": {
      "provenance": [],
      "authorship_tag": "ABX9TyP6/NJXuPVQUtqUUVaJGouz",
      "include_colab_link": true
    },
    "kernelspec": {
      "name": "python3",
      "display_name": "Python 3"
    },
    "language_info": {
      "name": "python"
    }
  },
  "cells": [
    {
      "cell_type": "markdown",
      "metadata": {
        "id": "view-in-github",
        "colab_type": "text"
      },
      "source": [
        "<a href=\"https://colab.research.google.com/github/srinijamorla/chatbot_repo/blob/main/log_chatbot.ipynb\" target=\"_parent\"><img src=\"https://colab.research.google.com/assets/colab-badge.svg\" alt=\"Open In Colab\"/></a>"
      ]
    },
    {
      "cell_type": "code",
      "execution_count": null,
      "metadata": {
        "colab": {
          "base_uri": "https://localhost:8080/"
        },
        "id": "9FY0AV3DS_Ag",
        "outputId": "d249a182-1783-4b02-db69-eeb426c646f9"
      },
      "outputs": [
        {
          "metadata": {
            "tags": null
          },
          "name": "stdout",
          "output_type": "stream",
          "text": [
            "\n",
            "1. Log Progress\n",
            "2. View Progress\n",
            "3. View Progress Chart\n",
            "4. Exit\n"
          ]
        }
      ],
      "source": [
        "import sqlite3\n",
        "import datetime\n",
        "import matplotlib.pyplot as plt\n",
        "\n",
        "def create_database():\n",
        "    conn = sqlite3.connect(\"progress.db\")\n",
        "    cursor = conn.cursor()\n",
        "    cursor.execute('''CREATE TABLE IF NOT EXISTS progress (\n",
        "                        id INTEGER PRIMARY KEY AUTOINCREMENT,\n",
        "                        date TEXT,\n",
        "                        category TEXT,\n",
        "                        entry TEXT\n",
        "                    )''')\n",
        "    conn.commit()\n",
        "    conn.close()\n",
        "\n",
        "def log_progress():\n",
        "    date = datetime.date.today().strftime(\"%Y-%m-%d\")\n",
        "    category = input(\"Enter category (Study/Work/Skills): \")\n",
        "    entry = input(\"Enter what you did today: \")\n",
        "\n",
        "    conn = sqlite3.connect(\"progress.db\")\n",
        "    cursor = conn.cursor()\n",
        "    cursor.execute(\"INSERT INTO progress (date, category, entry) VALUES (?, ?, ?)\", (date, category, entry))\n",
        "    conn.commit()\n",
        "    conn.close()\n",
        "    print(\"Progress logged successfully!\\n\")\n",
        "\n",
        "def view_progress():\n",
        "    conn = sqlite3.connect(\"progress.db\")\n",
        "    cursor = conn.cursor()\n",
        "    cursor.execute(\"SELECT date, category, entry FROM progress ORDER BY date DESC\")\n",
        "    rows = cursor.fetchall()\n",
        "    conn.close()\n",
        "\n",
        "    print(\"\\nYour Progress Logs:\")\n",
        "    for row in rows:\n",
        "        print(f\"[{row[0]}] {row[1]}: {row[2]}\")\n",
        "    print()\n",
        "\n",
        "def plot_progress():\n",
        "    conn = sqlite3.connect(\"progress.db\")\n",
        "    cursor = conn.cursor()\n",
        "    cursor.execute(\"SELECT date, category FROM progress\")\n",
        "    rows = cursor.fetchall()\n",
        "    conn.close()\n",
        "\n",
        "    categories = {\"Study\": 0, \"Work\": 0, \"Skills\": 0}\n",
        "    for row in rows:\n",
        "        if row[1] in categories:\n",
        "            categories[row[1]] += 1\n",
        "\n",
        "    plt.bar(categories.keys(), categories.values(), color=['blue', 'green', 'orange'])\n",
        "    plt.xlabel(\"Category\")\n",
        "    plt.ylabel(\"Entries Count\")\n",
        "    plt.title(\"Progress Overview\")\n",
        "    plt.show()\n",
        "\n",
        "def main():\n",
        "    create_database()\n",
        "    while True:\n",
        "        print(\"\\n1. Log Progress\")\n",
        "        print(\"2. View Progress\")\n",
        "        print(\"3. View Progress Chart\")\n",
        "        print(\"4. Exit\")\n",
        "        choice = input(\"Enter choice: \")\n",
        "\n",
        "        if choice == \"1\":\n",
        "            log_progress()\n",
        "        elif choice == \"2\":\n",
        "            view_progress()\n",
        "        elif choice == \"3\":\n",
        "            plot_progress()\n",
        "        elif choice == \"4\":\n",
        "            print(\"Exiting... Goodbye!\")\n",
        "            break\n",
        "        else:\n",
        "            print(\"Invalid choice! Try again.\")\n",
        "\n",
        "if __name__ == \"__main__\":\n",
        "    main()\n"
      ]
    },
    {
      "cell_type": "code",
      "source": [
        "from google.colab import auth\n",
        "auth.authenticate_user()"
      ],
      "metadata": {
        "id": "QsnN0CzITIDm"
      },
      "execution_count": null,
      "outputs": []
    },
    {
      "cell_type": "code",
      "source": [
        "!git config --global user.email \"srinijamorla70@gmail.com\"\n",
        "!git config --global user.name \"srinijamorla\""
      ],
      "metadata": {
        "id": "FzLLmNgxW-AL"
      },
      "execution_count": null,
      "outputs": []
    },
    {
      "cell_type": "code",
      "source": [],
      "metadata": {
        "id": "tJ9aYJgbcri2"
      },
      "execution_count": null,
      "outputs": []
    }
  ]
}